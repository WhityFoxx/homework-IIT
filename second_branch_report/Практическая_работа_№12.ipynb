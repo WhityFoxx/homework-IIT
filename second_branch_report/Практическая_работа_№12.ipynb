{
  "nbformat": 4,
  "nbformat_minor": 0,
  "metadata": {
    "colab": {
      "provenance": []
    },
    "kernelspec": {
      "name": "python3",
      "display_name": "Python 3"
    },
    "language_info": {
      "name": "python"
    }
  },
  "cells": [
    {
      "cell_type": "markdown",
      "source": [
        "<font size=\"2\" color=\"black\" face=\"Times\"><p align=\"center\">\n",
        "<b>МИНИСТЕРСТВО ЦИФРОВОГО РАЗВИТИЯ, СВЯЗИ И МАССОВЫХ КОММУНИКАЦИЙ РОССИЙСКОЙ ФЕДЕРАЦИИ\n",
        "</b></p></font>\n",
        "<hr>\n",
        "\n",
        "<font size=\"2\" color=\"black\" face=\"Times\"><p align=\"center\">\n",
        "<b>ОРДЕНА ТРУДОВОГО КРАСНОГО ЗНАМЕНИ ФЕДЕРАЛЬНОЕ ГОСУДАРСТВЕННОЕ БЮДЖЕТНОЕ ОБРАЗОВАТЕЛЬНОЕ УЧРЕЖДЕНИЕ ВЫСШЕГО ОБРАЗОВАНИЯ\n",
        "<br>«МОСКОВСКИЙ ТЕХНИЧЕСКИЙ УНИВЕРСИТЕТ СВЯЗИ И ИНФОРМАТИКИ»\n",
        "</b></p></font>\n",
        "<hr>\n",
        "\n",
        "<font size=\"2\" color=\"black\" face=\"Times\"><p align=\"center\">\n",
        "Факультет «Радио и телевидение»\n",
        "<br>Кафедра «Телевидения и Звукового Вещания имени С. И. Катаева.»\n",
        "</p></font>\n",
        "<hr>\n",
        "<br><br>\n",
        "\n",
        "<font size=\"2\" color=\"black\" face=\"Times\"><p align=\"center\">\n",
        "<br>Отчет о выполнении:\n",
        "<br>\n",
        "<font size=\"3\">Практической работы № 12</font>\n",
        "<br>\n",
        "<br>по дисциплине:\n",
        "<br>\n",
        "<font size=\"3\">«Введение в информационные технологии»</font>\n",
        "<br>\n",
        "<br>На тему:\n",
        "<br>\n",
        "<font size=\"3\">«Системы контроля версий»</font>\n",
        "<br><br><br><br>\n",
        "<p align=\"right\"><font size=\"2\">Выполнил: Ким И.В\n",
        "<br>Проверил: ассистент каф ТиЗВ Кудряшов В.В </font></p>\n",
        "<br><br>\n",
        "<p align=\"center\"><font size=\"2\">Москва 2024\n",
        "</font></p>"
      ],
      "metadata": {
        "id": "g4KcN11lg2Is"
      }
    },
    {
      "cell_type": "markdown",
      "source": [
        "<font size=\"3\" color=\"black\" face=\"Times\">\n",
        "<a href = '#part3'>3. Теоретическая часть</a><br>\n",
        "<a href = '#part31'>&emsp;3.1. Разбор теоретических вопросов</a><br>\n",
        "<a href = '#part4'>4. Постановка задания</a><br>\n",
        "<a href = '#part41'>&emsp;4.1. Задание</a><br>\n",
        "<a href = '#part42'>&emsp;4.2. Цель работы</a><br>\n",
        "<a href = '#part43'>&emsp;4.3. Планирование задач</a><br>\n",
        "<a href = '#part44'>&emsp;4.4. Расчет исходных данных</a><br>\n",
        "<a href = '#part5'>5. Ход работы</a><br>\n",
        "<a href = '#part51'>&emsp;5.1. Задача 1</a><br>\n",
        "<a href = '#part52'>&emsp;5.2. Задача 2</a><br>\n",
        "<a href = '#part53'>&emsp;5.3. Задача 3</a><br>\n",
        "<a href = '#part54'>&emsp;5.4. Задача 4</a><br>\n",
        "<a href = '#part55'>&emsp;5.5. Задача 5</a><br>\n",
        "<a href = '#part56'>&emsp;5.6. Задача 6</a><br>\n",
        "<a href = '#part57'>&emsp;5.7. Задача 7</a><br>\n",
        "<a href = '#part58'>&emsp;5.8. Задача 8</a><br>\n",
        "<a href = '#part6'>6. Результаты</a><br>\n",
        "<a href = '#part61'>&emsp;6.1. Выводы</a><br>\n",
        "<a href = '#part62'>&emsp;6.2. Решение задачи на защиту</a><br>"
      ],
      "metadata": {
        "id": "cFn5LoLtg1Kv"
      }
    },
    {
      "cell_type": "markdown",
      "source": [
        "#<font size=\"6\" color=\"black\" face=\"Times\"> <b>3. Теоретическая часть</font><a name = 'part3'>"
      ],
      "metadata": {
        "id": "9BETfsZjhTqj"
      }
    },
    {
      "cell_type": "markdown",
      "source": [
        "##<font size=\"5\" color=\"black\" face=\"Times\"><b>&emsp;3.1. Разбор теоретических вопросов</b></font><a name = 'part31'>"
      ],
      "metadata": {
        "id": "vxX54P_HhVXZ"
      }
    },
    {
      "cell_type": "markdown",
      "source": [
        "<font size=\"3\" color=\"black\" face=\"Times\"><div align=\"justify\">\n",
        "Software versioning — это процесс создания уникальных имен или номеров для различных версий продуктов программного обеспечения.\n",
        "\n",
        "   При имеющейся категории номера версии (главная, второстепенная), номера обычно выставляются в возрастающем порядке и соответствуют новым разработкам в программном обеспечении. На начальном уровне отслеживанием постепенно появляющихся версий электронной информации занимается система управления версиями, позволяющая хранить несколько версий одного и того же документа, при необходимости, возвращаться к более ранним версиям, определяя, кто и когда сделал то или иное изменение и многое другое. Вместе с тем для отслеживания изменений программного обеспечения было создано большое количество схем присвоения номеров версиям.\n",
        "Git: третье поколение\n",
        "\n",
        "Систему Git разработал в 2005 году Линус Торвальдс (создатель Linux). Она написана в основном на C в сочетании с некоторыми сценариями командной строки. Отличается от VCS по функциям, гибкости и скорости. Торвальдс изначально написал систему для кодовой базы Linux, но со временем её сфера использования расширилась, и сегодня это самая популярная в мире система управлениями версиями.\n",
        "\n",
        "Архитектура\n",
        "\n",
        "Git является распределённой системой. Центрального репозитория не существует: все копии создаются равными, что резко отличается от VCS второго поколения, где работа основана на добавлении и извлечении файлов из центрального репозитория. Это означает, что разработчики могут обмениваться изменениями друг с другом непосредственно перед объединением своих изменений в официальную ветвь.\n",
        "\n",
        "Кроме того, разработчики могут вносить свои изменения в локальную копию репозитория без ведома других репозиториев. Это допускает коммиты без подключения к сети или интернету. Разработчики могут работать локально в автономном режиме, пока не будут готовы поделиться своей работой с другими. В этот момент изменения отправляются в другие репозитории для проверки, тестирования или развёртывания.\n",
        "\n",
        "Когда файл добавляется для отслеживания в Git, он сжимается с помощью алгоритма сжатия zlib. Результат хэшируется с помощью хэш-функции SHA-1. Это даёт уникальный хэш, который соответствует конкретно содержимому в этом файле. Git хранит его в базе объектов, которая находится в скрытой папке .git/objects. Имя файла — это сгенерированный хэш, а файл содержит сжатый контент. Данные файлы называются блобами и создаются каждый раз при добавлении в репозиторий нового файла (или изменённой версии существующего файла).\n",
        "\n",
        "Git реализует промежуточный индекс (staging index), который выступает в качестве промежуточной области для изменений, которые готовятся к коммиту. По мере подготовки новых изменений на их сжатое содержимое ссылаются в специальном индексном файле, который принимает форму объекта дерева. Дерево — это объект Git, который связывает блобы с их реальными именами файлов, разрешениями на доступ к файлам и ссылками на другие деревья и таким образом представляет состояние определённого набора файлов и каталогов. Когда все соответствующие изменения подготовлены для коммита, индексное дерево можно зафиксировать в репозитории, который создаёт объект коммит в базе данных объектов Git. Коммит ссылается на дерево заголовков для конкретной версии, а также на автора коммита, адрес электронной почты, дату и сообщение коммита. Каждый коммит также хранит ссылку на свой родительский коммит(-ы), и так со временем создаётся история развития проекта.\n",
        "\n",
        "Как уже упоминалось, все объекты Git — блобы, деревья и коммиты — сжимаются, хэшируются и хранятся в базе данных объектов на основе их хэшей. Они называются свободными объектами (loose objects). Здесь не используются никакие диффы для экономии места, что делает Git очень быстрым, поскольку полное содержимое каждой версии файла доступно как свободный объект. Однако некоторые операции, такие как передача коммитов в удалённый репозиторий, хранение очень большого количества объектов или ручной запуск команды сборки мусора Git вызывают переупаковку объектов в пакетные файлы. В процессе упаковки вычисляются обратные диффы, которые сжимаются для исключения избыточности и уменьшения размера. В результате создаются файлы .pack с содержимым объекта, а для каждого из них создаётся файл .idx (или индекс) со ссылкой на упакованные объекты и их расположение в пакетном файле.\n",
        "\n",
        "Когда ветви перемещаются в удалённые хранилища или извлекаются из них, по сети передаются эти пакетные файлы. При вытягивании или извлечении ветвей файлы пакета распаковываются для создания свободных объектов в репозитории объектов.\n",
        "\n"
      ],
      "metadata": {
        "id": "Veu2tts6g6pd"
      }
    },
    {
      "cell_type": "markdown",
      "source": [
        "#<font size=\"6\" color=\"black\" face=\"Times\"> <b>4. Постановка задания</font><a name = 'part4'>"
      ],
      "metadata": {
        "id": "DfDffxzUhZE-"
      }
    },
    {
      "cell_type": "markdown",
      "source": [
        "\n",
        "##<font size=\"5\" color=\"black\" face=\"Times\"><b>&emsp;4.1. Задание</b></font><a name = 'part41'>"
      ],
      "metadata": {
        "id": "QCoUc7L4hbD9"
      }
    },
    {
      "cell_type": "markdown",
      "source": [
        "<font size=\"3\" color=\"black\" face=\"Times\"><div align=\"justify\">\n",
        "1. Установить GIT.\n",
        "1. Создать локальный репозиторий.\n",
        "1. Создать файл отчета по выполнению практической работы и поместить его в репозиторий\n",
        "1. Зафиксировать в отчете все проделанные шаги и создать версию отчета в GIT\n",
        "Создать ветку отчета в GIT, добавить описания шагов в отчет и создать версию отчета в новой ветке.\n",
        "1. Слить последнее изменение отчета в основную ветку.\n",
        "1. Зарегистрироваться на github, создать проект «homework IIT», залить содержимое из локального репозитория в проект на githab.\n",
        "1. Разместить на github ранее созданный статический сайт.\n",
        "1. Завершить отчет, добавив описание всех пунктов.\n",
        "\n"
      ],
      "metadata": {
        "id": "ePG0dXi5hcLd"
      }
    },
    {
      "cell_type": "markdown",
      "source": [
        "##<font size=\"5\" color=\"black\" face=\"Times\"><b>&emsp;4.2. Цель работы</b></font><a name = 'part42'>"
      ],
      "metadata": {
        "id": "1X7eZFwliCaq"
      }
    },
    {
      "cell_type": "markdown",
      "source": [
        "<font size=\"3\" color=\"black\" face=\"Times\"><div align=\"justify\">\n",
        "Научиться работать с GIT. Создать репозиторий на GitHub."
      ],
      "metadata": {
        "id": "RG0iPwwKh_JE"
      }
    },
    {
      "cell_type": "markdown",
      "source": [
        "##<font size=\"5\" color=\"black\" face=\"Times\"><b>&emsp;4.3. Планирование задач</b></font><a name = 'part43'>"
      ],
      "metadata": {
        "id": "Fp64PEZHiJ1n"
      }
    },
    {
      "cell_type": "markdown",
      "source": [
        "1. Установить GIT.\n",
        "1. Создать локальный репозиторий.\n",
        "1. Создать файл отчета по выполнению практической работы и поместить его в репозиторий\n",
        "1. Зафиксировать в отчете все проделанные шаги и создать версию отчета в GIT\n",
        "Создать ветку отчета в GIT, добавить описания шагов в отчет и создать версию отчета в новой ветке.\n",
        "1. Слить последнее изменение отчета в основную ветку.\n",
        "1. Зарегистрироваться на github, создать проект «homework IIT», залить содержимое из локального репозитория в проект на githab.\n",
        "1. Разместить на github ранее созданный статический сайт."
      ],
      "metadata": {
        "id": "Vc-SnuVviMFe"
      }
    },
    {
      "cell_type": "markdown",
      "source": [
        "##<font size=\"5\" color=\"black\" face=\"Times\"><b>&emsp;4.4. Расчет исходных данных</b></font><a name = 'part44'>"
      ],
      "metadata": {
        "id": "Fm_II6smiSm-"
      }
    },
    {
      "cell_type": "markdown",
      "source": [
        "<font size=\"3\" color=\"black\" face=\"Times\"><div align=\"justify\">\n",
        "ПО:\n",
        "Git, Windows 11     \n",
        "GitHub аккаунт."
      ],
      "metadata": {
        "id": "0X6isvlYiXQy"
      }
    },
    {
      "cell_type": "markdown",
      "source": [
        "#<font size=\"6\" color=\"black\" face=\"Times\"> <b>5. Ход работы</b></font><a name = 'part5'>"
      ],
      "metadata": {
        "id": "NQuS5aDIih4D"
      }
    },
    {
      "cell_type": "markdown",
      "source": [
        "##<font size=\"5\" color=\"black\" face=\"Times\"><b>&emsp;5.1. Задание 1</b></font><a name = 'part51'>"
      ],
      "metadata": {
        "id": "wpw7PrYsil6e"
      }
    },
    {
      "cell_type": "markdown",
      "source": [
        "<font size=\"3\" color=\"black\" face=\"Times\"><div align=\"justify\">\n",
        "Установим Git с официального [сайта](https://git-scm.com/)    \n",
        "Результат:\n"
      ],
      "metadata": {
        "id": "fL6vjbsyinZH"
      }
    },
    {
      "cell_type": "markdown",
      "source": [
        "![image.png](data:image/png;base64,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)"
      ],
      "metadata": {
        "id": "OU6wHjm_jMzM"
      }
    },
    {
      "cell_type": "markdown",
      "source": [
        "##<font size=\"5\" color=\"black\" face=\"Times\"><b>&emsp;5.2. Задание 2</b></font><a name = 'part52'>"
      ],
      "metadata": {
        "id": "pR0t-fSgi3Qp"
      }
    },
    {
      "cell_type": "markdown",
      "source": [
        "<font size=\"3\" color=\"black\" face=\"Times\"><div align=\"justify\">\n",
        "Создадим локальный репозиторий командой:   \n",
        "`git init`"
      ],
      "metadata": {
        "id": "qO8oRQnIjdN2"
      }
    },
    {
      "cell_type": "markdown",
      "source": [
        "C![image.png](data:image/png;base64,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)"
      ],
      "metadata": {
        "id": "R2y-GbVEjY_H"
      }
    },
    {
      "cell_type": "markdown",
      "source": [
        "##<font size=\"5\" color=\"black\" face=\"Times\"><b>&emsp;5.3. Задание 3</b></font><a name = 'part53'>"
      ],
      "metadata": {
        "id": "Sddj1eL_jnPo"
      }
    }
  ]
}